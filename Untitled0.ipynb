{
  "nbformat": 4,
  "nbformat_minor": 0,
  "metadata": {
    "colab": {
      "provenance": [],
      "authorship_tag": "ABX9TyOdlUoWsGya9Ii47X/ZaMxP",
      "include_colab_link": true
    },
    "kernelspec": {
      "name": "python3",
      "display_name": "Python 3"
    },
    "language_info": {
      "name": "python"
    }
  },
  "cells": [
    {
      "cell_type": "markdown",
      "metadata": {
        "id": "view-in-github",
        "colab_type": "text"
      },
      "source": [
        "<a href=\"https://colab.research.google.com/github/Xbm12/calculadora3/blob/main/Untitled0.ipynb\" target=\"_parent\"><img src=\"https://colab.research.google.com/assets/colab-badge.svg\" alt=\"Open In Colab\"/></a>"
      ]
    },
    {
      "cell_type": "code",
      "execution_count": null,
      "metadata": {
        "id": "XsbJlNdZYGEw"
      },
      "outputs": [],
      "source": [
        "num1 = int(input(\"numero 1: \"))\n",
        "num2 = int(input(\"numero 2: \"))\n",
        "\n",
        "valor = 0\n",
        "while True:\n",
        "    print(\"\"\"seleccione opcion\n",
        "            1- Sumar\n",
        "            2- Restar\n",
        "            3- Multiplicar\n",
        "            4- dividir\n",
        "        \"\"\")\n",
        "\n",
        "    valor = int(input(\"Elige una opcion: \") )\n",
        "\n",
        "    if valor == 1:\n",
        "        print(\"la suma es\",num1+num2)\n",
        "        break;\n",
        "    if valor == 2:\n",
        "        print(\"la resta es\",num1-num2)\n",
        "        break;\n",
        "    if valor == 3:\n",
        "        print(\"la multiplicacion es\",num1*num2)\n",
        "        break;\n",
        "    if valor == 4:\n",
        "        print(\"la division es\",num1/num2)\n",
        "        break;\n",
        "    else:\n",
        "        print(\"Opcion incorrecta\")\n",
        "        break;"
      ]
    }
  ]
}